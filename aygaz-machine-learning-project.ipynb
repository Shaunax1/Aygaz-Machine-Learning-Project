{
 "cells": [
  {
   "cell_type": "code",
   "execution_count": 1,
   "id": "d4d889f5",
   "metadata": {
    "_cell_guid": "b1076dfc-b9ad-4769-8c92-a6c4dae69d19",
    "_uuid": "8f2839f25d086af736a60e9eeb907d3b93b6e0e5",
    "execution": {
     "iopub.execute_input": "2024-09-19T18:07:54.325260Z",
     "iopub.status.busy": "2024-09-19T18:07:54.324801Z",
     "iopub.status.idle": "2024-09-19T18:07:56.611470Z",
     "shell.execute_reply": "2024-09-19T18:07:56.610021Z"
    },
    "papermill": {
     "duration": 2.298993,
     "end_time": "2024-09-19T18:07:56.615279",
     "exception": false,
     "start_time": "2024-09-19T18:07:54.316286",
     "status": "completed"
    },
    "tags": []
   },
   "outputs": [
    {
     "name": "stdout",
     "output_type": "stream",
     "text": [
      "/kaggle/input/online-payments-fraud-detection-dataset/PS_20174392719_1491204439457_log.csv\n"
     ]
    }
   ],
   "source": [
    "# This Python 3 environment comes with many helpful analytics libraries installed\n",
    "# It is defined by the kaggle/python Docker image: https://github.com/kaggle/docker-python\n",
    "# For example, here's several helpful packages to load\n",
    "\n",
    "import numpy as np # linear algebra\n",
    "import pandas as pd # data processing, CSV file I/O (e.g. pd.read_csv)\n",
    "import seaborn as sns\n",
    "import matplotlib.pyplot as plt\n",
    "import warnings\n",
    "warnings.filterwarnings('ignore')\n",
    "\n",
    "# Input data files are available in the read-only \"../input/\" directory\n",
    "# For example, running this (by clicking run or pressing Shift+Enter) will list all files under the input directory\n",
    "\n",
    "import os\n",
    "for dirname, _, filenames in os.walk('/kaggle/input'):\n",
    "    for filename in filenames:\n",
    "        print(os.path.join(dirname, filename))\n",
    "\n",
    "# You can write up to 20GB to the current directory (/kaggle/working/) that gets preserved as output when you create a version using \"Save & Run All\" \n",
    "# You can also write temporary files to /kaggle/temp/, but they won't be saved outside of the current session"
   ]
  },
  {
   "cell_type": "code",
   "execution_count": 2,
   "id": "43c22693",
   "metadata": {
    "execution": {
     "iopub.execute_input": "2024-09-19T18:07:56.629731Z",
     "iopub.status.busy": "2024-09-19T18:07:56.629169Z",
     "iopub.status.idle": "2024-09-19T18:07:56.719706Z",
     "shell.execute_reply": "2024-09-19T18:07:56.718238Z"
    },
    "papermill": {
     "duration": 0.10068,
     "end_time": "2024-09-19T18:07:56.722511",
     "exception": false,
     "start_time": "2024-09-19T18:07:56.621831",
     "status": "completed"
    },
    "tags": []
   },
   "outputs": [],
   "source": [
    "df = pd.read_csv(\"/kaggle/input/online-payments-fraud-detection-dataset/PS_20174392719_1491204439457_log.csv\",nrows=20000)"
   ]
  },
  {
   "cell_type": "code",
   "execution_count": 3,
   "id": "0bffa7c6",
   "metadata": {
    "execution": {
     "iopub.execute_input": "2024-09-19T18:07:56.736487Z",
     "iopub.status.busy": "2024-09-19T18:07:56.736037Z",
     "iopub.status.idle": "2024-09-19T18:07:56.770100Z",
     "shell.execute_reply": "2024-09-19T18:07:56.768757Z"
    },
    "papermill": {
     "duration": 0.04396,
     "end_time": "2024-09-19T18:07:56.772607",
     "exception": false,
     "start_time": "2024-09-19T18:07:56.728647",
     "status": "completed"
    },
    "tags": []
   },
   "outputs": [
    {
     "data": {
      "text/html": [
       "<div>\n",
       "<style scoped>\n",
       "    .dataframe tbody tr th:only-of-type {\n",
       "        vertical-align: middle;\n",
       "    }\n",
       "\n",
       "    .dataframe tbody tr th {\n",
       "        vertical-align: top;\n",
       "    }\n",
       "\n",
       "    .dataframe thead th {\n",
       "        text-align: right;\n",
       "    }\n",
       "</style>\n",
       "<table border=\"1\" class=\"dataframe\">\n",
       "  <thead>\n",
       "    <tr style=\"text-align: right;\">\n",
       "      <th></th>\n",
       "      <th>step</th>\n",
       "      <th>type</th>\n",
       "      <th>amount</th>\n",
       "      <th>nameOrig</th>\n",
       "      <th>oldbalanceOrg</th>\n",
       "      <th>newbalanceOrig</th>\n",
       "      <th>nameDest</th>\n",
       "      <th>oldbalanceDest</th>\n",
       "      <th>newbalanceDest</th>\n",
       "      <th>isFraud</th>\n",
       "      <th>isFlaggedFraud</th>\n",
       "    </tr>\n",
       "  </thead>\n",
       "  <tbody>\n",
       "    <tr>\n",
       "      <th>0</th>\n",
       "      <td>1</td>\n",
       "      <td>PAYMENT</td>\n",
       "      <td>9839.64</td>\n",
       "      <td>C1231006815</td>\n",
       "      <td>170136.00</td>\n",
       "      <td>160296.36</td>\n",
       "      <td>M1979787155</td>\n",
       "      <td>0.0</td>\n",
       "      <td>0.00</td>\n",
       "      <td>0</td>\n",
       "      <td>0</td>\n",
       "    </tr>\n",
       "    <tr>\n",
       "      <th>1</th>\n",
       "      <td>1</td>\n",
       "      <td>PAYMENT</td>\n",
       "      <td>1864.28</td>\n",
       "      <td>C1666544295</td>\n",
       "      <td>21249.00</td>\n",
       "      <td>19384.72</td>\n",
       "      <td>M2044282225</td>\n",
       "      <td>0.0</td>\n",
       "      <td>0.00</td>\n",
       "      <td>0</td>\n",
       "      <td>0</td>\n",
       "    </tr>\n",
       "    <tr>\n",
       "      <th>2</th>\n",
       "      <td>1</td>\n",
       "      <td>TRANSFER</td>\n",
       "      <td>181.00</td>\n",
       "      <td>C1305486145</td>\n",
       "      <td>181.00</td>\n",
       "      <td>0.00</td>\n",
       "      <td>C553264065</td>\n",
       "      <td>0.0</td>\n",
       "      <td>0.00</td>\n",
       "      <td>1</td>\n",
       "      <td>0</td>\n",
       "    </tr>\n",
       "    <tr>\n",
       "      <th>3</th>\n",
       "      <td>1</td>\n",
       "      <td>CASH_OUT</td>\n",
       "      <td>181.00</td>\n",
       "      <td>C840083671</td>\n",
       "      <td>181.00</td>\n",
       "      <td>0.00</td>\n",
       "      <td>C38997010</td>\n",
       "      <td>21182.0</td>\n",
       "      <td>0.00</td>\n",
       "      <td>1</td>\n",
       "      <td>0</td>\n",
       "    </tr>\n",
       "    <tr>\n",
       "      <th>4</th>\n",
       "      <td>1</td>\n",
       "      <td>PAYMENT</td>\n",
       "      <td>11668.14</td>\n",
       "      <td>C2048537720</td>\n",
       "      <td>41554.00</td>\n",
       "      <td>29885.86</td>\n",
       "      <td>M1230701703</td>\n",
       "      <td>0.0</td>\n",
       "      <td>0.00</td>\n",
       "      <td>0</td>\n",
       "      <td>0</td>\n",
       "    </tr>\n",
       "    <tr>\n",
       "      <th>5</th>\n",
       "      <td>1</td>\n",
       "      <td>PAYMENT</td>\n",
       "      <td>7817.71</td>\n",
       "      <td>C90045638</td>\n",
       "      <td>53860.00</td>\n",
       "      <td>46042.29</td>\n",
       "      <td>M573487274</td>\n",
       "      <td>0.0</td>\n",
       "      <td>0.00</td>\n",
       "      <td>0</td>\n",
       "      <td>0</td>\n",
       "    </tr>\n",
       "    <tr>\n",
       "      <th>6</th>\n",
       "      <td>1</td>\n",
       "      <td>PAYMENT</td>\n",
       "      <td>7107.77</td>\n",
       "      <td>C154988899</td>\n",
       "      <td>183195.00</td>\n",
       "      <td>176087.23</td>\n",
       "      <td>M408069119</td>\n",
       "      <td>0.0</td>\n",
       "      <td>0.00</td>\n",
       "      <td>0</td>\n",
       "      <td>0</td>\n",
       "    </tr>\n",
       "    <tr>\n",
       "      <th>7</th>\n",
       "      <td>1</td>\n",
       "      <td>PAYMENT</td>\n",
       "      <td>7861.64</td>\n",
       "      <td>C1912850431</td>\n",
       "      <td>176087.23</td>\n",
       "      <td>168225.59</td>\n",
       "      <td>M633326333</td>\n",
       "      <td>0.0</td>\n",
       "      <td>0.00</td>\n",
       "      <td>0</td>\n",
       "      <td>0</td>\n",
       "    </tr>\n",
       "    <tr>\n",
       "      <th>8</th>\n",
       "      <td>1</td>\n",
       "      <td>PAYMENT</td>\n",
       "      <td>4024.36</td>\n",
       "      <td>C1265012928</td>\n",
       "      <td>2671.00</td>\n",
       "      <td>0.00</td>\n",
       "      <td>M1176932104</td>\n",
       "      <td>0.0</td>\n",
       "      <td>0.00</td>\n",
       "      <td>0</td>\n",
       "      <td>0</td>\n",
       "    </tr>\n",
       "    <tr>\n",
       "      <th>9</th>\n",
       "      <td>1</td>\n",
       "      <td>DEBIT</td>\n",
       "      <td>5337.77</td>\n",
       "      <td>C712410124</td>\n",
       "      <td>41720.00</td>\n",
       "      <td>36382.23</td>\n",
       "      <td>C195600860</td>\n",
       "      <td>41898.0</td>\n",
       "      <td>40348.79</td>\n",
       "      <td>0</td>\n",
       "      <td>0</td>\n",
       "    </tr>\n",
       "  </tbody>\n",
       "</table>\n",
       "</div>"
      ],
      "text/plain": [
       "   step      type    amount     nameOrig  oldbalanceOrg  newbalanceOrig  \\\n",
       "0     1   PAYMENT   9839.64  C1231006815      170136.00       160296.36   \n",
       "1     1   PAYMENT   1864.28  C1666544295       21249.00        19384.72   \n",
       "2     1  TRANSFER    181.00  C1305486145         181.00            0.00   \n",
       "3     1  CASH_OUT    181.00   C840083671         181.00            0.00   \n",
       "4     1   PAYMENT  11668.14  C2048537720       41554.00        29885.86   \n",
       "5     1   PAYMENT   7817.71    C90045638       53860.00        46042.29   \n",
       "6     1   PAYMENT   7107.77   C154988899      183195.00       176087.23   \n",
       "7     1   PAYMENT   7861.64  C1912850431      176087.23       168225.59   \n",
       "8     1   PAYMENT   4024.36  C1265012928        2671.00            0.00   \n",
       "9     1     DEBIT   5337.77   C712410124       41720.00        36382.23   \n",
       "\n",
       "      nameDest  oldbalanceDest  newbalanceDest  isFraud  isFlaggedFraud  \n",
       "0  M1979787155             0.0            0.00        0               0  \n",
       "1  M2044282225             0.0            0.00        0               0  \n",
       "2   C553264065             0.0            0.00        1               0  \n",
       "3    C38997010         21182.0            0.00        1               0  \n",
       "4  M1230701703             0.0            0.00        0               0  \n",
       "5   M573487274             0.0            0.00        0               0  \n",
       "6   M408069119             0.0            0.00        0               0  \n",
       "7   M633326333             0.0            0.00        0               0  \n",
       "8  M1176932104             0.0            0.00        0               0  \n",
       "9   C195600860         41898.0        40348.79        0               0  "
      ]
     },
     "execution_count": 3,
     "metadata": {},
     "output_type": "execute_result"
    }
   ],
   "source": [
    "df.head(10)"
   ]
  },
  {
   "cell_type": "code",
   "execution_count": 4,
   "id": "82c72315",
   "metadata": {
    "execution": {
     "iopub.execute_input": "2024-09-19T18:07:56.788205Z",
     "iopub.status.busy": "2024-09-19T18:07:56.787742Z",
     "iopub.status.idle": "2024-09-19T18:07:56.833579Z",
     "shell.execute_reply": "2024-09-19T18:07:56.832221Z"
    },
    "papermill": {
     "duration": 0.057765,
     "end_time": "2024-09-19T18:07:56.836724",
     "exception": false,
     "start_time": "2024-09-19T18:07:56.778959",
     "status": "completed"
    },
    "tags": []
   },
   "outputs": [
    {
     "data": {
      "text/html": [
       "<div>\n",
       "<style scoped>\n",
       "    .dataframe tbody tr th:only-of-type {\n",
       "        vertical-align: middle;\n",
       "    }\n",
       "\n",
       "    .dataframe tbody tr th {\n",
       "        vertical-align: top;\n",
       "    }\n",
       "\n",
       "    .dataframe thead th {\n",
       "        text-align: right;\n",
       "    }\n",
       "</style>\n",
       "<table border=\"1\" class=\"dataframe\">\n",
       "  <thead>\n",
       "    <tr style=\"text-align: right;\">\n",
       "      <th></th>\n",
       "      <th>count</th>\n",
       "      <th>mean</th>\n",
       "      <th>std</th>\n",
       "      <th>min</th>\n",
       "      <th>25%</th>\n",
       "      <th>50%</th>\n",
       "      <th>75%</th>\n",
       "      <th>max</th>\n",
       "    </tr>\n",
       "  </thead>\n",
       "  <tbody>\n",
       "    <tr>\n",
       "      <th>step</th>\n",
       "      <td>20000.0</td>\n",
       "      <td>5.889400e+00</td>\n",
       "      <td>2.473979e+00</td>\n",
       "      <td>1.00</td>\n",
       "      <td>5.0000</td>\n",
       "      <td>7.000</td>\n",
       "      <td>8.0000</td>\n",
       "      <td>8.00</td>\n",
       "    </tr>\n",
       "    <tr>\n",
       "      <th>amount</th>\n",
       "      <td>20000.0</td>\n",
       "      <td>1.259584e+05</td>\n",
       "      <td>2.967104e+05</td>\n",
       "      <td>2.39</td>\n",
       "      <td>5272.0175</td>\n",
       "      <td>15825.175</td>\n",
       "      <td>141661.6450</td>\n",
       "      <td>10000000.00</td>\n",
       "    </tr>\n",
       "    <tr>\n",
       "      <th>oldbalanceOrg</th>\n",
       "      <td>20000.0</td>\n",
       "      <td>8.050588e+05</td>\n",
       "      <td>2.213398e+06</td>\n",
       "      <td>0.00</td>\n",
       "      <td>0.0000</td>\n",
       "      <td>19943.500</td>\n",
       "      <td>127412.6125</td>\n",
       "      <td>22352310.12</td>\n",
       "    </tr>\n",
       "    <tr>\n",
       "      <th>newbalanceOrig</th>\n",
       "      <td>20000.0</td>\n",
       "      <td>8.215246e+05</td>\n",
       "      <td>2.255167e+06</td>\n",
       "      <td>0.00</td>\n",
       "      <td>0.0000</td>\n",
       "      <td>5718.700</td>\n",
       "      <td>128794.9200</td>\n",
       "      <td>22465998.18</td>\n",
       "    </tr>\n",
       "    <tr>\n",
       "      <th>oldbalanceDest</th>\n",
       "      <td>20000.0</td>\n",
       "      <td>8.159052e+05</td>\n",
       "      <td>2.481246e+06</td>\n",
       "      <td>0.00</td>\n",
       "      <td>0.0000</td>\n",
       "      <td>0.000</td>\n",
       "      <td>288767.7500</td>\n",
       "      <td>22787471.89</td>\n",
       "    </tr>\n",
       "    <tr>\n",
       "      <th>newbalanceDest</th>\n",
       "      <td>20000.0</td>\n",
       "      <td>1.174361e+06</td>\n",
       "      <td>3.147339e+06</td>\n",
       "      <td>0.00</td>\n",
       "      <td>0.0000</td>\n",
       "      <td>0.000</td>\n",
       "      <td>428409.3200</td>\n",
       "      <td>28783585.38</td>\n",
       "    </tr>\n",
       "    <tr>\n",
       "      <th>isFraud</th>\n",
       "      <td>20000.0</td>\n",
       "      <td>4.050000e-03</td>\n",
       "      <td>6.351220e-02</td>\n",
       "      <td>0.00</td>\n",
       "      <td>0.0000</td>\n",
       "      <td>0.000</td>\n",
       "      <td>0.0000</td>\n",
       "      <td>1.00</td>\n",
       "    </tr>\n",
       "    <tr>\n",
       "      <th>isFlaggedFraud</th>\n",
       "      <td>20000.0</td>\n",
       "      <td>0.000000e+00</td>\n",
       "      <td>0.000000e+00</td>\n",
       "      <td>0.00</td>\n",
       "      <td>0.0000</td>\n",
       "      <td>0.000</td>\n",
       "      <td>0.0000</td>\n",
       "      <td>0.00</td>\n",
       "    </tr>\n",
       "  </tbody>\n",
       "</table>\n",
       "</div>"
      ],
      "text/plain": [
       "                  count          mean           std   min        25%  \\\n",
       "step            20000.0  5.889400e+00  2.473979e+00  1.00     5.0000   \n",
       "amount          20000.0  1.259584e+05  2.967104e+05  2.39  5272.0175   \n",
       "oldbalanceOrg   20000.0  8.050588e+05  2.213398e+06  0.00     0.0000   \n",
       "newbalanceOrig  20000.0  8.215246e+05  2.255167e+06  0.00     0.0000   \n",
       "oldbalanceDest  20000.0  8.159052e+05  2.481246e+06  0.00     0.0000   \n",
       "newbalanceDest  20000.0  1.174361e+06  3.147339e+06  0.00     0.0000   \n",
       "isFraud         20000.0  4.050000e-03  6.351220e-02  0.00     0.0000   \n",
       "isFlaggedFraud  20000.0  0.000000e+00  0.000000e+00  0.00     0.0000   \n",
       "\n",
       "                      50%          75%          max  \n",
       "step                7.000       8.0000         8.00  \n",
       "amount          15825.175  141661.6450  10000000.00  \n",
       "oldbalanceOrg   19943.500  127412.6125  22352310.12  \n",
       "newbalanceOrig   5718.700  128794.9200  22465998.18  \n",
       "oldbalanceDest      0.000  288767.7500  22787471.89  \n",
       "newbalanceDest      0.000  428409.3200  28783585.38  \n",
       "isFraud             0.000       0.0000         1.00  \n",
       "isFlaggedFraud      0.000       0.0000         0.00  "
      ]
     },
     "execution_count": 4,
     "metadata": {},
     "output_type": "execute_result"
    }
   ],
   "source": [
    "df.describe().T"
   ]
  },
  {
   "cell_type": "code",
   "execution_count": 5,
   "id": "849d4e8e",
   "metadata": {
    "execution": {
     "iopub.execute_input": "2024-09-19T18:07:56.851846Z",
     "iopub.status.busy": "2024-09-19T18:07:56.851350Z",
     "iopub.status.idle": "2024-09-19T18:07:56.880026Z",
     "shell.execute_reply": "2024-09-19T18:07:56.878649Z"
    },
    "papermill": {
     "duration": 0.039238,
     "end_time": "2024-09-19T18:07:56.882670",
     "exception": false,
     "start_time": "2024-09-19T18:07:56.843432",
     "status": "completed"
    },
    "tags": []
   },
   "outputs": [
    {
     "name": "stdout",
     "output_type": "stream",
     "text": [
      "<class 'pandas.core.frame.DataFrame'>\n",
      "RangeIndex: 20000 entries, 0 to 19999\n",
      "Data columns (total 11 columns):\n",
      " #   Column          Non-Null Count  Dtype  \n",
      "---  ------          --------------  -----  \n",
      " 0   step            20000 non-null  int64  \n",
      " 1   type            20000 non-null  object \n",
      " 2   amount          20000 non-null  float64\n",
      " 3   nameOrig        20000 non-null  object \n",
      " 4   oldbalanceOrg   20000 non-null  float64\n",
      " 5   newbalanceOrig  20000 non-null  float64\n",
      " 6   nameDest        20000 non-null  object \n",
      " 7   oldbalanceDest  20000 non-null  float64\n",
      " 8   newbalanceDest  20000 non-null  float64\n",
      " 9   isFraud         20000 non-null  int64  \n",
      " 10  isFlaggedFraud  20000 non-null  int64  \n",
      "dtypes: float64(5), int64(3), object(3)\n",
      "memory usage: 1.7+ MB\n"
     ]
    }
   ],
   "source": [
    "df.info()"
   ]
  },
  {
   "cell_type": "code",
   "execution_count": 6,
   "id": "d0f0e276",
   "metadata": {
    "execution": {
     "iopub.execute_input": "2024-09-19T18:07:56.900781Z",
     "iopub.status.busy": "2024-09-19T18:07:56.900340Z",
     "iopub.status.idle": "2024-09-19T18:07:56.913864Z",
     "shell.execute_reply": "2024-09-19T18:07:56.912567Z"
    },
    "papermill": {
     "duration": 0.025591,
     "end_time": "2024-09-19T18:07:56.916597",
     "exception": false,
     "start_time": "2024-09-19T18:07:56.891006",
     "status": "completed"
    },
    "tags": []
   },
   "outputs": [
    {
     "data": {
      "text/plain": [
       "step              0\n",
       "type              0\n",
       "amount            0\n",
       "nameOrig          0\n",
       "oldbalanceOrg     0\n",
       "newbalanceOrig    0\n",
       "nameDest          0\n",
       "oldbalanceDest    0\n",
       "newbalanceDest    0\n",
       "isFraud           0\n",
       "isFlaggedFraud    0\n",
       "dtype: int64"
      ]
     },
     "execution_count": 6,
     "metadata": {},
     "output_type": "execute_result"
    }
   ],
   "source": [
    "df.isnull().sum()"
   ]
  },
  {
   "cell_type": "code",
   "execution_count": 7,
   "id": "e1be5301",
   "metadata": {
    "execution": {
     "iopub.execute_input": "2024-09-19T18:07:56.933860Z",
     "iopub.status.busy": "2024-09-19T18:07:56.933157Z",
     "iopub.status.idle": "2024-09-19T18:07:56.939324Z",
     "shell.execute_reply": "2024-09-19T18:07:56.938031Z"
    },
    "papermill": {
     "duration": 0.017304,
     "end_time": "2024-09-19T18:07:56.941477",
     "exception": false,
     "start_time": "2024-09-19T18:07:56.924173",
     "status": "completed"
    },
    "tags": []
   },
   "outputs": [
    {
     "name": "stdout",
     "output_type": "stream",
     "text": [
      "220000\n"
     ]
    }
   ],
   "source": [
    "all_Data = df.size\n",
    "print(all_Data)"
   ]
  },
  {
   "cell_type": "code",
   "execution_count": 8,
   "id": "20191afd",
   "metadata": {
    "execution": {
     "iopub.execute_input": "2024-09-19T18:07:56.957437Z",
     "iopub.status.busy": "2024-09-19T18:07:56.956987Z",
     "iopub.status.idle": "2024-09-19T18:07:56.967809Z",
     "shell.execute_reply": "2024-09-19T18:07:56.966636Z"
    },
    "papermill": {
     "duration": 0.021956,
     "end_time": "2024-09-19T18:07:56.970284",
     "exception": false,
     "start_time": "2024-09-19T18:07:56.948328",
     "status": "completed"
    },
    "tags": []
   },
   "outputs": [
    {
     "data": {
      "text/plain": [
       "array(['PAYMENT', 'TRANSFER', 'CASH_OUT', 'DEBIT', 'CASH_IN'],\n",
       "      dtype=object)"
      ]
     },
     "execution_count": 8,
     "metadata": {},
     "output_type": "execute_result"
    }
   ],
   "source": [
    "df['type'].unique()"
   ]
  },
  {
   "cell_type": "code",
   "execution_count": 9,
   "id": "47908299",
   "metadata": {
    "execution": {
     "iopub.execute_input": "2024-09-19T18:07:56.986466Z",
     "iopub.status.busy": "2024-09-19T18:07:56.986024Z",
     "iopub.status.idle": "2024-09-19T18:07:56.996267Z",
     "shell.execute_reply": "2024-09-19T18:07:56.994945Z"
    },
    "papermill": {
     "duration": 0.021669,
     "end_time": "2024-09-19T18:07:56.998873",
     "exception": false,
     "start_time": "2024-09-19T18:07:56.977204",
     "status": "completed"
    },
    "tags": []
   },
   "outputs": [
    {
     "data": {
      "text/plain": [
       "type\n",
       "PAYMENT     10440\n",
       "CASH_OUT     3648\n",
       "CASH_IN      3498\n",
       "TRANSFER     1973\n",
       "DEBIT         441\n",
       "Name: count, dtype: int64"
      ]
     },
     "execution_count": 9,
     "metadata": {},
     "output_type": "execute_result"
    }
   ],
   "source": [
    "df['type'].value_counts()"
   ]
  },
  {
   "cell_type": "code",
   "execution_count": 10,
   "id": "a0e59bff",
   "metadata": {
    "execution": {
     "iopub.execute_input": "2024-09-19T18:07:57.016651Z",
     "iopub.status.busy": "2024-09-19T18:07:57.016201Z",
     "iopub.status.idle": "2024-09-19T18:07:57.316156Z",
     "shell.execute_reply": "2024-09-19T18:07:57.314282Z"
    },
    "papermill": {
     "duration": 0.312082,
     "end_time": "2024-09-19T18:07:57.318722",
     "exception": false,
     "start_time": "2024-09-19T18:07:57.006640",
     "status": "completed"
    },
    "tags": []
   },
   "outputs": [
    {
     "data": {
      "image/png": "[encoded data removed]",
      "text/plain": [
       "<Figure size 1200x800 with 1 Axes>"
      ]
     },
     "metadata": {},
     "output_type": "display_data"
    }
   ],
   "source": [
    "plt.figure(figsize=(12,8))\n",
    "sns.countplot(data=df, x=\"type\", width= 1)\n",
    "plt.xlabel('Type')\n",
    "plt.show()"
   ]
  },
  {
   "cell_type": "code",
   "execution_count": 11,
   "id": "6dcf2bf1",
   "metadata": {
    "execution": {
     "iopub.execute_input": "2024-09-19T18:07:57.337332Z",
     "iopub.status.busy": "2024-09-19T18:07:57.336903Z",
     "iopub.status.idle": "2024-09-19T18:07:57.354508Z",
     "shell.execute_reply": "2024-09-19T18:07:57.353248Z"
    },
    "papermill": {
     "duration": 0.030794,
     "end_time": "2024-09-19T18:07:57.357212",
     "exception": false,
     "start_time": "2024-09-19T18:07:57.326418",
     "status": "completed"
    },
    "tags": []
   },
   "outputs": [],
   "source": [
    "df['type'].replace({'PAYMENT':0, 'CASH_IN':1, 'CASH_OUT':2, 'TRANSFER':3, 'DEBIT':4}, inplace=True)"
   ]
  },
  {
   "cell_type": "code",
   "execution_count": 12,
   "id": "d37c2519",
   "metadata": {
    "execution": {
     "iopub.execute_input": "2024-09-19T18:07:57.375185Z",
     "iopub.status.busy": "2024-09-19T18:07:57.374737Z",
     "iopub.status.idle": "2024-09-19T18:07:57.386090Z",
     "shell.execute_reply": "2024-09-19T18:07:57.384832Z"
    },
    "papermill": {
     "duration": 0.022825,
     "end_time": "2024-09-19T18:07:57.388364",
     "exception": false,
     "start_time": "2024-09-19T18:07:57.365539",
     "status": "completed"
    },
    "tags": []
   },
   "outputs": [
    {
     "data": {
      "text/plain": [
       "type\n",
       "0    10440\n",
       "2     3648\n",
       "1     3498\n",
       "3     1973\n",
       "4      441\n",
       "Name: count, dtype: int64"
      ]
     },
     "execution_count": 12,
     "metadata": {},
     "output_type": "execute_result"
    }
   ],
   "source": [
    "df['type'].value_counts()"
   ]
  },
  {
   "cell_type": "code",
   "execution_count": 13,
   "id": "24560f7d",
   "metadata": {
    "execution": {
     "iopub.execute_input": "2024-09-19T18:07:57.405273Z",
     "iopub.status.busy": "2024-09-19T18:07:57.404852Z",
     "iopub.status.idle": "2024-09-19T18:07:57.413916Z",
     "shell.execute_reply": "2024-09-19T18:07:57.412654Z"
    },
    "papermill": {
     "duration": 0.02036,
     "end_time": "2024-09-19T18:07:57.416395",
     "exception": false,
     "start_time": "2024-09-19T18:07:57.396035",
     "status": "completed"
    },
    "tags": []
   },
   "outputs": [],
   "source": [
    "df.drop(['nameOrig', 'nameDest'], axis=1, inplace=True)"
   ]
  },
  {
   "cell_type": "code",
   "execution_count": 14,
   "id": "7ff2d0d7",
   "metadata": {
    "execution": {
     "iopub.execute_input": "2024-09-19T18:07:57.434252Z",
     "iopub.status.busy": "2024-09-19T18:07:57.433838Z",
     "iopub.status.idle": "2024-09-19T18:07:57.454836Z",
     "shell.execute_reply": "2024-09-19T18:07:57.453467Z"
    },
    "papermill": {
     "duration": 0.033695,
     "end_time": "2024-09-19T18:07:57.457793",
     "exception": false,
     "start_time": "2024-09-19T18:07:57.424098",
     "status": "completed"
    },
    "tags": []
   },
   "outputs": [
    {
     "data": {
      "text/html": [
       "<div>\n",
       "<style scoped>\n",
       "    .dataframe tbody tr th:only-of-type {\n",
       "        vertical-align: middle;\n",
       "    }\n",
       "\n",
       "    .dataframe tbody tr th {\n",
       "        vertical-align: top;\n",
       "    }\n",
       "\n",
       "    .dataframe thead th {\n",
       "        text-align: right;\n",
       "    }\n",
       "</style>\n",
       "<table border=\"1\" class=\"dataframe\">\n",
       "  <thead>\n",
       "    <tr style=\"text-align: right;\">\n",
       "      <th></th>\n",
       "      <th>step</th>\n",
       "      <th>type</th>\n",
       "      <th>amount</th>\n",
       "      <th>oldbalanceOrg</th>\n",
       "      <th>newbalanceOrig</th>\n",
       "      <th>oldbalanceDest</th>\n",
       "      <th>newbalanceDest</th>\n",
       "      <th>isFraud</th>\n",
       "      <th>isFlaggedFraud</th>\n",
       "    </tr>\n",
       "  </thead>\n",
       "  <tbody>\n",
       "    <tr>\n",
       "      <th>0</th>\n",
       "      <td>1</td>\n",
       "      <td>0</td>\n",
       "      <td>9839.64</td>\n",
       "      <td>170136.00</td>\n",
       "      <td>160296.36</td>\n",
       "      <td>0.0</td>\n",
       "      <td>0.00</td>\n",
       "      <td>0</td>\n",
       "      <td>0</td>\n",
       "    </tr>\n",
       "    <tr>\n",
       "      <th>1</th>\n",
       "      <td>1</td>\n",
       "      <td>0</td>\n",
       "      <td>1864.28</td>\n",
       "      <td>21249.00</td>\n",
       "      <td>19384.72</td>\n",
       "      <td>0.0</td>\n",
       "      <td>0.00</td>\n",
       "      <td>0</td>\n",
       "      <td>0</td>\n",
       "    </tr>\n",
       "    <tr>\n",
       "      <th>2</th>\n",
       "      <td>1</td>\n",
       "      <td>3</td>\n",
       "      <td>181.00</td>\n",
       "      <td>181.00</td>\n",
       "      <td>0.00</td>\n",
       "      <td>0.0</td>\n",
       "      <td>0.00</td>\n",
       "      <td>1</td>\n",
       "      <td>0</td>\n",
       "    </tr>\n",
       "    <tr>\n",
       "      <th>3</th>\n",
       "      <td>1</td>\n",
       "      <td>2</td>\n",
       "      <td>181.00</td>\n",
       "      <td>181.00</td>\n",
       "      <td>0.00</td>\n",
       "      <td>21182.0</td>\n",
       "      <td>0.00</td>\n",
       "      <td>1</td>\n",
       "      <td>0</td>\n",
       "    </tr>\n",
       "    <tr>\n",
       "      <th>4</th>\n",
       "      <td>1</td>\n",
       "      <td>0</td>\n",
       "      <td>11668.14</td>\n",
       "      <td>41554.00</td>\n",
       "      <td>29885.86</td>\n",
       "      <td>0.0</td>\n",
       "      <td>0.00</td>\n",
       "      <td>0</td>\n",
       "      <td>0</td>\n",
       "    </tr>\n",
       "    <tr>\n",
       "      <th>5</th>\n",
       "      <td>1</td>\n",
       "      <td>0</td>\n",
       "      <td>7817.71</td>\n",
       "      <td>53860.00</td>\n",
       "      <td>46042.29</td>\n",
       "      <td>0.0</td>\n",
       "      <td>0.00</td>\n",
       "      <td>0</td>\n",
       "      <td>0</td>\n",
       "    </tr>\n",
       "    <tr>\n",
       "      <th>6</th>\n",
       "      <td>1</td>\n",
       "      <td>0</td>\n",
       "      <td>7107.77</td>\n",
       "      <td>183195.00</td>\n",
       "      <td>176087.23</td>\n",
       "      <td>0.0</td>\n",
       "      <td>0.00</td>\n",
       "      <td>0</td>\n",
       "      <td>0</td>\n",
       "    </tr>\n",
       "    <tr>\n",
       "      <th>7</th>\n",
       "      <td>1</td>\n",
       "      <td>0</td>\n",
       "      <td>7861.64</td>\n",
       "      <td>176087.23</td>\n",
       "      <td>168225.59</td>\n",
       "      <td>0.0</td>\n",
       "      <td>0.00</td>\n",
       "      <td>0</td>\n",
       "      <td>0</td>\n",
       "    </tr>\n",
       "    <tr>\n",
       "      <th>8</th>\n",
       "      <td>1</td>\n",
       "      <td>0</td>\n",
       "      <td>4024.36</td>\n",
       "      <td>2671.00</td>\n",
       "      <td>0.00</td>\n",
       "      <td>0.0</td>\n",
       "      <td>0.00</td>\n",
       "      <td>0</td>\n",
       "      <td>0</td>\n",
       "    </tr>\n",
       "    <tr>\n",
       "      <th>9</th>\n",
       "      <td>1</td>\n",
       "      <td>4</td>\n",
       "      <td>5337.77</td>\n",
       "      <td>41720.00</td>\n",
       "      <td>36382.23</td>\n",
       "      <td>41898.0</td>\n",
       "      <td>40348.79</td>\n",
       "      <td>0</td>\n",
       "      <td>0</td>\n",
       "    </tr>\n",
       "    <tr>\n",
       "      <th>10</th>\n",
       "      <td>1</td>\n",
       "      <td>4</td>\n",
       "      <td>9644.94</td>\n",
       "      <td>4465.00</td>\n",
       "      <td>0.00</td>\n",
       "      <td>10845.0</td>\n",
       "      <td>157982.12</td>\n",
       "      <td>0</td>\n",
       "      <td>0</td>\n",
       "    </tr>\n",
       "    <tr>\n",
       "      <th>11</th>\n",
       "      <td>1</td>\n",
       "      <td>0</td>\n",
       "      <td>3099.97</td>\n",
       "      <td>20771.00</td>\n",
       "      <td>17671.03</td>\n",
       "      <td>0.0</td>\n",
       "      <td>0.00</td>\n",
       "      <td>0</td>\n",
       "      <td>0</td>\n",
       "    </tr>\n",
       "    <tr>\n",
       "      <th>12</th>\n",
       "      <td>1</td>\n",
       "      <td>0</td>\n",
       "      <td>2560.74</td>\n",
       "      <td>5070.00</td>\n",
       "      <td>2509.26</td>\n",
       "      <td>0.0</td>\n",
       "      <td>0.00</td>\n",
       "      <td>0</td>\n",
       "      <td>0</td>\n",
       "    </tr>\n",
       "    <tr>\n",
       "      <th>13</th>\n",
       "      <td>1</td>\n",
       "      <td>0</td>\n",
       "      <td>11633.76</td>\n",
       "      <td>10127.00</td>\n",
       "      <td>0.00</td>\n",
       "      <td>0.0</td>\n",
       "      <td>0.00</td>\n",
       "      <td>0</td>\n",
       "      <td>0</td>\n",
       "    </tr>\n",
       "    <tr>\n",
       "      <th>14</th>\n",
       "      <td>1</td>\n",
       "      <td>0</td>\n",
       "      <td>4098.78</td>\n",
       "      <td>503264.00</td>\n",
       "      <td>499165.22</td>\n",
       "      <td>0.0</td>\n",
       "      <td>0.00</td>\n",
       "      <td>0</td>\n",
       "      <td>0</td>\n",
       "    </tr>\n",
       "  </tbody>\n",
       "</table>\n",
       "</div>"
      ],
      "text/plain": [
       "    step  type    amount  oldbalanceOrg  newbalanceOrig  oldbalanceDest  \\\n",
       "0      1     0   9839.64      170136.00       160296.36             0.0   \n",
       "1      1     0   1864.28       21249.00        19384.72             0.0   \n",
       "2      1     3    181.00         181.00            0.00             0.0   \n",
       "3      1     2    181.00         181.00            0.00         21182.0   \n",
       "4      1     0  11668.14       41554.00        29885.86             0.0   \n",
       "5      1     0   7817.71       53860.00        46042.29             0.0   \n",
       "6      1     0   7107.77      183195.00       176087.23             0.0   \n",
       "7      1     0   7861.64      176087.23       168225.59             0.0   \n",
       "8      1     0   4024.36        2671.00            0.00             0.0   \n",
       "9      1     4   5337.77       41720.00        36382.23         41898.0   \n",
       "10     1     4   9644.94        4465.00            0.00         10845.0   \n",
       "11     1     0   3099.97       20771.00        17671.03             0.0   \n",
       "12     1     0   2560.74        5070.00         2509.26             0.0   \n",
       "13     1     0  11633.76       10127.00            0.00             0.0   \n",
       "14     1     0   4098.78      503264.00       499165.22             0.0   \n",
       "\n",
       "    newbalanceDest  isFraud  isFlaggedFraud  \n",
       "0             0.00        0               0  \n",
       "1             0.00        0               0  \n",
       "2             0.00        1               0  \n",
       "3             0.00        1               0  \n",
       "4             0.00        0               0  \n",
       "5             0.00        0               0  \n",
       "6             0.00        0               0  \n",
       "7             0.00        0               0  \n",
       "8             0.00        0               0  \n",
       "9         40348.79        0               0  \n",
       "10       157982.12        0               0  \n",
       "11            0.00        0               0  \n",
       "12            0.00        0               0  \n",
       "13            0.00        0               0  \n",
       "14            0.00        0               0  "
      ]
     },
     "execution_count": 14,
     "metadata": {},
     "output_type": "execute_result"
    }
   ],
   "source": [
    "df.head(15)"
   ]
  },
  {
   "cell_type": "code",
   "execution_count": 15,
   "id": "b2926ddf",
   "metadata": {
    "execution": {
     "iopub.execute_input": "2024-09-19T18:07:57.475757Z",
     "iopub.status.busy": "2024-09-19T18:07:57.475333Z",
     "iopub.status.idle": "2024-09-19T18:07:57.997674Z",
     "shell.execute_reply": "2024-09-19T18:07:57.996400Z"
    },
    "papermill": {
     "duration": 0.534474,
     "end_time": "2024-09-19T18:07:58.000551",
     "exception": false,
     "start_time": "2024-09-19T18:07:57.466077",
     "status": "completed"
    },
    "tags": []
   },
   "outputs": [
    {
     "data": {
      "image/png": "[encoded data removed]",
      "text/plain": [
       "<Figure size 640x480 with 2 Axes>"
      ]
     },
     "metadata": {},
     "output_type": "display_data"
    }
   ],
   "source": [
    "corr = df.corr()\n",
    "sns.heatmap(corr, annot=True, cmap='magma')\n",
    "plt.title('Correlation Matrix')\n",
    "plt.show()"
   ]
  },
  {
   "cell_type": "code",
   "execution_count": 16,
   "id": "ed1588b0",
   "metadata": {
    "execution": {
     "iopub.execute_input": "2024-09-19T18:07:58.021508Z",
     "iopub.status.busy": "2024-09-19T18:07:58.021096Z",
     "iopub.status.idle": "2024-09-19T18:07:58.027149Z",
     "shell.execute_reply": "2024-09-19T18:07:58.025863Z"
    },
    "papermill": {
     "duration": 0.020045,
     "end_time": "2024-09-19T18:07:58.030313",
     "exception": false,
     "start_time": "2024-09-19T18:07:58.010268",
     "status": "completed"
    },
    "tags": []
   },
   "outputs": [
    {
     "name": "stdout",
     "output_type": "stream",
     "text": [
      "(20000, 9)\n"
     ]
    }
   ],
   "source": [
    "print(df.shape)"
   ]
  },
  {
   "cell_type": "code",
   "execution_count": 17,
   "id": "47484f27",
   "metadata": {
    "execution": {
     "iopub.execute_input": "2024-09-19T18:07:58.051135Z",
     "iopub.status.busy": "2024-09-19T18:07:58.050702Z",
     "iopub.status.idle": "2024-09-19T18:07:58.058971Z",
     "shell.execute_reply": "2024-09-19T18:07:58.057518Z"
    },
    "papermill": {
     "duration": 0.021297,
     "end_time": "2024-09-19T18:07:58.061321",
     "exception": false,
     "start_time": "2024-09-19T18:07:58.040024",
     "status": "completed"
    },
    "tags": []
   },
   "outputs": [
    {
     "name": "stdout",
     "output_type": "stream",
     "text": [
      "(20000, 8)\n",
      "(20000,)\n"
     ]
    }
   ],
   "source": [
    "X = df.drop(['isFraud'], axis=1)\n",
    "print(X.shape)\n",
    "\n",
    "y = df['isFraud']\n",
    "print(y.shape)"
   ]
  },
  {
   "cell_type": "code",
   "execution_count": 18,
   "id": "a4a447c4",
   "metadata": {
    "execution": {
     "iopub.execute_input": "2024-09-19T18:07:58.081733Z",
     "iopub.status.busy": "2024-09-19T18:07:58.081312Z",
     "iopub.status.idle": "2024-09-19T18:07:58.412826Z",
     "shell.execute_reply": "2024-09-19T18:07:58.411502Z"
    },
    "papermill": {
     "duration": 0.344818,
     "end_time": "2024-09-19T18:07:58.415477",
     "exception": false,
     "start_time": "2024-09-19T18:07:58.070659",
     "status": "completed"
    },
    "tags": []
   },
   "outputs": [],
   "source": [
    "from sklearn.compose import ColumnTransformer\n",
    "from sklearn.model_selection import train_test_split\n",
    "from sklearn.preprocessing import MinMaxScaler, OneHotEncoder\n",
    "\n",
    "categorical_features = ['type']\n",
    "numerical_features = ['amount', 'oldbalanceOrg', 'newbalanceOrig']\n",
    "\n",
    "preprocessor = ColumnTransformer(\n",
    "    transformers=[\n",
    "        ('num', MinMaxScaler(), numerical_features),\n",
    "        ('cat', OneHotEncoder(), categorical_features)\n",
    "    ])\n",
    "\n",
    "X_train, X_test, y_train, y_test = train_test_split(X, y, test_size=0.2, random_state=42)\n",
    "\n",
    "X_train = preprocessor.fit_transform(X_train)\n",
    "X_test = preprocessor.transform(X_test)"
   ]
  },
  {
   "cell_type": "code",
   "execution_count": 19,
   "id": "fc831a3b",
   "metadata": {
    "execution": {
     "iopub.execute_input": "2024-09-19T18:07:58.436996Z",
     "iopub.status.busy": "2024-09-19T18:07:58.436557Z",
     "iopub.status.idle": "2024-09-19T18:08:02.304455Z",
     "shell.execute_reply": "2024-09-19T18:08:02.302959Z"
    },
    "papermill": {
     "duration": 3.881983,
     "end_time": "2024-09-19T18:08:02.307258",
     "exception": false,
     "start_time": "2024-09-19T18:07:58.425275",
     "status": "completed"
    },
    "tags": []
   },
   "outputs": [
    {
     "name": "stdout",
     "output_type": "stream",
     "text": [
      "En iyi parametreler: {'criterion': 'entropy', 'max_depth': 15, 'min_samples_split': 2}\n",
      "En iyi skor: 0.9981875\n"
     ]
    }
   ],
   "source": [
    "from sklearn.tree import DecisionTreeClassifier\n",
    "from sklearn.model_selection import GridSearchCV\n",
    "from sklearn.metrics import classification_report, confusion_matrix, accuracy_score\n",
    "\n",
    "model = DecisionTreeClassifier(criterion='entropy',max_depth='20', min_samples_split='5')\n",
    "\n",
    "param_grid = {\n",
    "    'max_depth': [5, 10, 15, 20, 25],\n",
    "    'min_samples_split': [2, 5, 10],\n",
    "    'criterion' : ['gini', 'entropy']\n",
    "}\n",
    "\n",
    "grid_search = GridSearchCV(estimator=model, param_grid=param_grid, cv=5, n_jobs=-1)\n",
    "grid_search.fit(X_train, y_train)\n",
    "\n",
    "print(\"En iyi parametreler:\", grid_search.best_params_)\n",
    "print(\"En iyi skor:\", grid_search.best_score_)\n",
    "\n",
    "y_pred = grid_search.predict(X_test)"
   ]
  },
  {
   "cell_type": "code",
   "execution_count": 20,
   "id": "0fb74529",
   "metadata": {
    "execution": {
     "iopub.execute_input": "2024-09-19T18:08:02.330044Z",
     "iopub.status.busy": "2024-09-19T18:08:02.329554Z",
     "iopub.status.idle": "2024-09-19T18:08:02.356326Z",
     "shell.execute_reply": "2024-09-19T18:08:02.354415Z"
    },
    "papermill": {
     "duration": 0.042072,
     "end_time": "2024-09-19T18:08:02.359522",
     "exception": false,
     "start_time": "2024-09-19T18:08:02.317450",
     "status": "completed"
    },
    "tags": []
   },
   "outputs": [
    {
     "name": "stdout",
     "output_type": "stream",
     "text": [
      "Confusion Matrix:\n",
      " [[3970    5]\n",
      " [   5   20]]\n",
      "Classification Report:\n",
      "               precision    recall  f1-score   support\n",
      "\n",
      "           0       1.00      1.00      1.00      3975\n",
      "           1       0.80      0.80      0.80        25\n",
      "\n",
      "    accuracy                           1.00      4000\n",
      "   macro avg       0.90      0.90      0.90      4000\n",
      "weighted avg       1.00      1.00      1.00      4000\n",
      "\n",
      "Doğruluk Skoru: 0.9975\n"
     ]
    }
   ],
   "source": [
    "print(\"Confusion Matrix:\\n\", confusion_matrix(y_test, y_pred))\n",
    "print(\"Classification Report:\\n\", classification_report(y_test, y_pred))\n",
    "accuracy = accuracy_score(y_test, y_pred)\n",
    "print(f\"Doğruluk Skoru: {accuracy}\")"
   ]
  },
  {
   "cell_type": "code",
   "execution_count": 21,
   "id": "52d1b3be",
   "metadata": {
    "execution": {
     "iopub.execute_input": "2024-09-19T18:08:02.382709Z",
     "iopub.status.busy": "2024-09-19T18:08:02.382231Z",
     "iopub.status.idle": "2024-09-19T18:08:08.616867Z",
     "shell.execute_reply": "2024-09-19T18:08:08.615686Z"
    },
    "papermill": {
     "duration": 6.24826,
     "end_time": "2024-09-19T18:08:08.619198",
     "exception": false,
     "start_time": "2024-09-19T18:08:02.370938",
     "status": "completed"
    },
    "tags": []
   },
   "outputs": [
    {
     "data": {
      "image/png": "[encoded data removed]",
      "text/plain": [
       "<Figure size 1200x600 with 1 Axes>"
      ]
     },
     "metadata": {},
     "output_type": "display_data"
    }
   ],
   "source": [
    "from sklearn.cluster import KMeans\n",
    "\n",
    "n_list = []\n",
    "X_numerical = X[numerical_features]\n",
    "for i in range(1, 6):\n",
    "    kmeans = KMeans(n_clusters=i, random_state=42)\n",
    "    kmeans.fit(X_numerical) \n",
    "    n_list.append(kmeans.inertia_)\n",
    "\n",
    "plt.figure(figsize=(12, 6))\n",
    "plt.plot(range(1, 6), n_list, marker='o')\n",
    "plt.show()"
   ]
  },
  {
   "cell_type": "code",
   "execution_count": 22,
   "id": "1dc7ab34",
   "metadata": {
    "execution": {
     "iopub.execute_input": "2024-09-19T18:08:08.641875Z",
     "iopub.status.busy": "2024-09-19T18:08:08.641414Z",
     "iopub.status.idle": "2024-09-19T18:08:09.616228Z",
     "shell.execute_reply": "2024-09-19T18:08:09.615253Z"
    },
    "papermill": {
     "duration": 0.989097,
     "end_time": "2024-09-19T18:08:09.618933",
     "exception": false,
     "start_time": "2024-09-19T18:08:08.629836",
     "status": "completed"
    },
    "tags": []
   },
   "outputs": [],
   "source": [
    "from sklearn.cluster import KMeans\n",
    "kmeans = KMeans(n_clusters=2, random_state=42)\n",
    "kmeans.fit(X_numerical)\n",
    "labels = kmeans.labels_"
   ]
  },
  {
   "cell_type": "code",
   "execution_count": 23,
   "id": "e69ab86b",
   "metadata": {
    "execution": {
     "iopub.execute_input": "2024-09-19T18:08:09.641417Z",
     "iopub.status.busy": "2024-09-19T18:08:09.640944Z",
     "iopub.status.idle": "2024-09-19T18:08:10.277162Z",
     "shell.execute_reply": "2024-09-19T18:08:10.276016Z"
    },
    "papermill": {
     "duration": 0.650307,
     "end_time": "2024-09-19T18:08:10.279532",
     "exception": false,
     "start_time": "2024-09-19T18:08:09.629225",
     "status": "completed"
    },
    "tags": []
   },
   "outputs": [
    {
     "data": {
      "image/png": "[encoded data removed]",
      "text/plain": [
       "<Figure size 640x480 with 1 Axes>"
      ]
     },
     "metadata": {},
     "output_type": "display_data"
    }
   ],
   "source": [
    "plt.scatter(X_numerical['amount'], X_numerical['newbalanceOrig'], c=labels, cmap='viridis')\n",
    "plt.xlabel('Amount')\n",
    "plt.ylabel('New Balance')\n",
    "plt.show()"
   ]
  }
 ],
 "metadata": {
  "kaggle": {
   "accelerator": "none",
   "dataSources": [
    {
     "datasetId": 2093649,
     "sourceId": 3478314,
     "sourceType": "datasetVersion"
    }
   ],
   "dockerImageVersionId": 30761,
   "isGpuEnabled": false,
   "isInternetEnabled": true,
   "language": "python",
   "sourceType": "notebook"
  },
  "kernelspec": {
   "display_name": "Python 3",
   "language": "python",
   "name": "python3"
  },
  "language_info": {
   "codemirror_mode": {
    "name": "ipython",
    "version": 3
   },
   "file_extension": ".py",
   "mimetype": "text/x-python",
   "name": "python",
   "nbconvert_exporter": "python",
   "pygments_lexer": "ipython3",
   "version": "3.8.10"
  },
  "papermill": {
   "default_parameters": {},
   "duration": 21.40528,
   "end_time": "2024-09-19T18:08:12.911161",
   "environment_variables": {},
   "exception": null,
   "input_path": "__notebook__.ipynb",
   "output_path": "__notebook__.ipynb",
   "parameters": {},
   "start_time": "2024-09-19T18:07:51.505881",
   "version": "2.6.0"
  }
 },
 "nbformat": 4,
 "nbformat_minor": 5
}
